{
 "cells": [
  {
   "cell_type": "code",
   "execution_count": 1,
   "metadata": {},
   "outputs": [],
   "source": [
    "import numpy as np\n",
    "import pandas as pd\n",
    "import matplotlib.pyplot as plt"
   ]
  },
  {
   "cell_type": "code",
   "execution_count": 2,
   "metadata": {},
   "outputs": [],
   "source": [
    "pd.read_excel('Book1.xlsx').to_csv('Book1.csv', index=False)\n",
    "data = pd.read_csv('Book1.csv')"
   ]
  },
  {
   "cell_type": "code",
   "execution_count": 3,
   "metadata": {},
   "outputs": [],
   "source": [
    "data.insert(0, 'Vin', 1)"
   ]
  },
  {
   "cell_type": "code",
   "execution_count": 4,
   "metadata": {},
   "outputs": [],
   "source": [
    "Av = data['Vout'] / data['Vin']\n",
    "Av_dB = 20 * np.log10(Av)\n",
    "data.insert(2, 'Av', Av_dB)"
   ]
  },
  {
   "cell_type": "code",
   "execution_count": 5,
   "metadata": {},
   "outputs": [
    {
     "data": {
      "text/html": [
       "<div>\n",
       "<style scoped>\n",
       "    .dataframe tbody tr th:only-of-type {\n",
       "        vertical-align: middle;\n",
       "    }\n",
       "\n",
       "    .dataframe tbody tr th {\n",
       "        vertical-align: top;\n",
       "    }\n",
       "\n",
       "    .dataframe thead th {\n",
       "        text-align: right;\n",
       "    }\n",
       "</style>\n",
       "<table border=\"1\" class=\"dataframe\">\n",
       "  <thead>\n",
       "    <tr style=\"text-align: right;\">\n",
       "      <th></th>\n",
       "      <th>Vin</th>\n",
       "      <th>Vout</th>\n",
       "      <th>Av</th>\n",
       "      <th>Freuency</th>\n",
       "    </tr>\n",
       "  </thead>\n",
       "  <tbody>\n",
       "    <tr>\n",
       "      <th>0</th>\n",
       "      <td>1</td>\n",
       "      <td>0.019</td>\n",
       "      <td>-34.424928</td>\n",
       "      <td>1</td>\n",
       "    </tr>\n",
       "    <tr>\n",
       "      <th>1</th>\n",
       "      <td>1</td>\n",
       "      <td>0.045</td>\n",
       "      <td>-26.935750</td>\n",
       "      <td>2</td>\n",
       "    </tr>\n",
       "    <tr>\n",
       "      <th>2</th>\n",
       "      <td>1</td>\n",
       "      <td>0.113</td>\n",
       "      <td>-18.938431</td>\n",
       "      <td>3</td>\n",
       "    </tr>\n",
       "    <tr>\n",
       "      <th>3</th>\n",
       "      <td>1</td>\n",
       "      <td>0.550</td>\n",
       "      <td>-5.192746</td>\n",
       "      <td>4</td>\n",
       "    </tr>\n",
       "    <tr>\n",
       "      <th>4</th>\n",
       "      <td>1</td>\n",
       "      <td>0.835</td>\n",
       "      <td>-1.566270</td>\n",
       "      <td>5</td>\n",
       "    </tr>\n",
       "    <tr>\n",
       "      <th>5</th>\n",
       "      <td>1</td>\n",
       "      <td>0.920</td>\n",
       "      <td>-0.724243</td>\n",
       "      <td>8</td>\n",
       "    </tr>\n",
       "    <tr>\n",
       "      <th>6</th>\n",
       "      <td>1</td>\n",
       "      <td>0.994</td>\n",
       "      <td>-0.052272</td>\n",
       "      <td>10</td>\n",
       "    </tr>\n",
       "    <tr>\n",
       "      <th>7</th>\n",
       "      <td>1</td>\n",
       "      <td>1.070</td>\n",
       "      <td>0.587676</td>\n",
       "      <td>12</td>\n",
       "    </tr>\n",
       "    <tr>\n",
       "      <th>8</th>\n",
       "      <td>1</td>\n",
       "      <td>1.140</td>\n",
       "      <td>1.138097</td>\n",
       "      <td>15</td>\n",
       "    </tr>\n",
       "    <tr>\n",
       "      <th>9</th>\n",
       "      <td>1</td>\n",
       "      <td>1.250</td>\n",
       "      <td>1.938200</td>\n",
       "      <td>20</td>\n",
       "    </tr>\n",
       "    <tr>\n",
       "      <th>10</th>\n",
       "      <td>1</td>\n",
       "      <td>1.310</td>\n",
       "      <td>2.345426</td>\n",
       "      <td>25</td>\n",
       "    </tr>\n",
       "    <tr>\n",
       "      <th>11</th>\n",
       "      <td>1</td>\n",
       "      <td>1.360</td>\n",
       "      <td>2.670778</td>\n",
       "      <td>30</td>\n",
       "    </tr>\n",
       "    <tr>\n",
       "      <th>12</th>\n",
       "      <td>1</td>\n",
       "      <td>1.400</td>\n",
       "      <td>2.922561</td>\n",
       "      <td>40</td>\n",
       "    </tr>\n",
       "    <tr>\n",
       "      <th>13</th>\n",
       "      <td>1</td>\n",
       "      <td>1.430</td>\n",
       "      <td>3.106721</td>\n",
       "      <td>50</td>\n",
       "    </tr>\n",
       "    <tr>\n",
       "      <th>14</th>\n",
       "      <td>1</td>\n",
       "      <td>1.460</td>\n",
       "      <td>3.287057</td>\n",
       "      <td>75</td>\n",
       "    </tr>\n",
       "    <tr>\n",
       "      <th>15</th>\n",
       "      <td>1</td>\n",
       "      <td>1.470</td>\n",
       "      <td>3.346347</td>\n",
       "      <td>100</td>\n",
       "    </tr>\n",
       "    <tr>\n",
       "      <th>16</th>\n",
       "      <td>1</td>\n",
       "      <td>1.480</td>\n",
       "      <td>3.405234</td>\n",
       "      <td>150</td>\n",
       "    </tr>\n",
       "    <tr>\n",
       "      <th>17</th>\n",
       "      <td>1</td>\n",
       "      <td>1.480</td>\n",
       "      <td>3.405234</td>\n",
       "      <td>200</td>\n",
       "    </tr>\n",
       "    <tr>\n",
       "      <th>18</th>\n",
       "      <td>1</td>\n",
       "      <td>1.490</td>\n",
       "      <td>3.463725</td>\n",
       "      <td>300</td>\n",
       "    </tr>\n",
       "    <tr>\n",
       "      <th>19</th>\n",
       "      <td>1</td>\n",
       "      <td>1.490</td>\n",
       "      <td>3.463725</td>\n",
       "      <td>500</td>\n",
       "    </tr>\n",
       "    <tr>\n",
       "      <th>20</th>\n",
       "      <td>1</td>\n",
       "      <td>1.490</td>\n",
       "      <td>3.463725</td>\n",
       "      <td>1000</td>\n",
       "    </tr>\n",
       "    <tr>\n",
       "      <th>21</th>\n",
       "      <td>1</td>\n",
       "      <td>1.480</td>\n",
       "      <td>3.405234</td>\n",
       "      <td>2000</td>\n",
       "    </tr>\n",
       "    <tr>\n",
       "      <th>22</th>\n",
       "      <td>1</td>\n",
       "      <td>1.480</td>\n",
       "      <td>3.405234</td>\n",
       "      <td>3000</td>\n",
       "    </tr>\n",
       "    <tr>\n",
       "      <th>23</th>\n",
       "      <td>1</td>\n",
       "      <td>1.480</td>\n",
       "      <td>3.405234</td>\n",
       "      <td>5000</td>\n",
       "    </tr>\n",
       "    <tr>\n",
       "      <th>24</th>\n",
       "      <td>1</td>\n",
       "      <td>1.430</td>\n",
       "      <td>3.106721</td>\n",
       "      <td>10000</td>\n",
       "    </tr>\n",
       "  </tbody>\n",
       "</table>\n",
       "</div>"
      ],
      "text/plain": [
       "    Vin   Vout         Av  Freuency\n",
       "0     1  0.019 -34.424928         1\n",
       "1     1  0.045 -26.935750         2\n",
       "2     1  0.113 -18.938431         3\n",
       "3     1  0.550  -5.192746         4\n",
       "4     1  0.835  -1.566270         5\n",
       "5     1  0.920  -0.724243         8\n",
       "6     1  0.994  -0.052272        10\n",
       "7     1  1.070   0.587676        12\n",
       "8     1  1.140   1.138097        15\n",
       "9     1  1.250   1.938200        20\n",
       "10    1  1.310   2.345426        25\n",
       "11    1  1.360   2.670778        30\n",
       "12    1  1.400   2.922561        40\n",
       "13    1  1.430   3.106721        50\n",
       "14    1  1.460   3.287057        75\n",
       "15    1  1.470   3.346347       100\n",
       "16    1  1.480   3.405234       150\n",
       "17    1  1.480   3.405234       200\n",
       "18    1  1.490   3.463725       300\n",
       "19    1  1.490   3.463725       500\n",
       "20    1  1.490   3.463725      1000\n",
       "21    1  1.480   3.405234      2000\n",
       "22    1  1.480   3.405234      3000\n",
       "23    1  1.480   3.405234      5000\n",
       "24    1  1.430   3.106721     10000"
      ]
     },
     "execution_count": 5,
     "metadata": {},
     "output_type": "execute_result"
    }
   ],
   "source": [
    "data"
   ]
  },
  {
   "cell_type": "code",
   "execution_count": 6,
   "metadata": {},
   "outputs": [],
   "source": [
    "x = data['Freuency'].iloc[1:].astype(float)\n",
    "y = data['Av'].iloc[1:].astype(float)"
   ]
  },
  {
   "cell_type": "code",
   "execution_count": 7,
   "metadata": {},
   "outputs": [
    {
     "data": {
      "text/plain": [
       "1    -26.935750\n",
       "2    -18.938431\n",
       "3     -5.192746\n",
       "4     -1.566270\n",
       "5     -0.724243\n",
       "6     -0.052272\n",
       "7      0.587676\n",
       "8      1.138097\n",
       "9      1.938200\n",
       "10     2.345426\n",
       "11     2.670778\n",
       "12     2.922561\n",
       "13     3.106721\n",
       "14     3.287057\n",
       "15     3.346347\n",
       "16     3.405234\n",
       "17     3.405234\n",
       "18     3.463725\n",
       "19     3.463725\n",
       "20     3.463725\n",
       "21     3.405234\n",
       "22     3.405234\n",
       "23     3.405234\n",
       "24     3.106721\n",
       "Name: Av, dtype: float64"
      ]
     },
     "execution_count": 7,
     "metadata": {},
     "output_type": "execute_result"
    }
   ],
   "source": [
    "y"
   ]
  },
  {
   "cell_type": "code",
   "execution_count": 8,
   "metadata": {},
   "outputs": [],
   "source": [
    "from scipy.optimize import curve_fit\n",
    "\n",
    "# Linear fit\n",
    "def f(x, a, b):\n",
    "    return a * x + b\n",
    "\n",
    "popt, _ = curve_fit(f, x, y)"
   ]
  },
  {
   "cell_type": "code",
   "execution_count": 9,
   "metadata": {},
   "outputs": [
    {
     "data": {
      "text/plain": [
       "1    -0.658220\n",
       "2    -0.657587\n",
       "3    -0.656953\n",
       "4    -0.656320\n",
       "5    -0.654419\n",
       "6    -0.653152\n",
       "7    -0.651885\n",
       "8    -0.649985\n",
       "9    -0.646817\n",
       "10   -0.643650\n",
       "11   -0.640482\n",
       "12   -0.634147\n",
       "13   -0.627812\n",
       "14   -0.611974\n",
       "15   -0.596137\n",
       "16   -0.564461\n",
       "17   -0.532786\n",
       "18   -0.469436\n",
       "19   -0.342735\n",
       "20   -0.025982\n",
       "21    0.607523\n",
       "22    1.241029\n",
       "23    2.508039\n",
       "24    5.675566\n",
       "Name: Freuency, dtype: float64"
      ]
     },
     "execution_count": 9,
     "metadata": {},
     "output_type": "execute_result"
    }
   ],
   "source": [
    "f(x, *popt)"
   ]
  },
  {
   "cell_type": "code",
   "execution_count": 10,
   "metadata": {},
   "outputs": [],
   "source": [
    "# Write data.csv to file\n",
    "data.to_csv('data.csv', index=False)"
   ]
  },
  {
   "cell_type": "code",
   "execution_count": 11,
   "metadata": {},
   "outputs": [
    {
     "data": {
      "image/png": "[encoded data removed]",
      "text/plain": [
       "<Figure size 1000x500 with 1 Axes>"
      ]
     },
     "metadata": {},
     "output_type": "display_data"
    }
   ],
   "source": [
    "fig = plt.figure(figsize=(10, 5))\n",
    "ax = fig.add_subplot(111)\n",
    "plt.xscale('log')\n",
    "plt.xlabel('Frequency (Hz)')\n",
    "plt.ylabel('Voltage Gain (dB)')\n",
    "ax.plot(x, y, 'go-')\n",
    "plt.ylim(-40, 10)\n",
    "plt.grid();\n",
    "# plt.plot(x, f(x, *popt), 'r-')"
   ]
  },
  {
   "cell_type": "code",
   "execution_count": 12,
   "metadata": {},
   "outputs": [],
   "source": [
    "data2 = pd.read_csv('BPF.csv')"
   ]
  },
  {
   "cell_type": "code",
   "execution_count": 13,
   "metadata": {},
   "outputs": [],
   "source": [
    "x = data2['F'].astype(float)\n",
    "y = data2['Av'].astype(float)"
   ]
  },
  {
   "cell_type": "code",
   "execution_count": 14,
   "metadata": {},
   "outputs": [
    {
     "data": {
      "image/png": "[encoded data removed]",
      "text/plain": [
       "<Figure size 1500x500 with 1 Axes>"
      ]
     },
     "metadata": {},
     "output_type": "display_data"
    }
   ],
   "source": [
    "fig = plt.figure(figsize=(15, 5))\n",
    "ax = fig.add_subplot(111)\n",
    "plt.xscale('log')\n",
    "plt.xlabel('Frequency (Hz)')\n",
    "plt.ylabel('Voltage Gain (dB)')\n",
    "ax.plot(x, y, 'go-')\n",
    "plt.ylim(-40, 10)\n",
    "plt.grid();"
   ]
  },
  {
   "cell_type": "code",
   "execution_count": 15,
   "metadata": {},
   "outputs": [
    {
     "name": "stdout",
     "output_type": "stream",
     "text": [
      "\\begin{tabular}{rrrrr}\n",
      "\\toprule\n",
      "        F &    log F &  Vin &  Vout &         Av \\\\\n",
      "\\midrule\n",
      "      1.0 & 0.000000 &    2 & 0.033 & -35.650321 \\\\\n",
      "      1.5 & 0.176091 &    2 & 0.033 & -35.650321 \\\\\n",
      "      2.0 & 0.301030 &    2 & 0.330 & -15.650321 \\\\\n",
      "      2.5 & 0.397940 &    2 & 0.031 & -36.193366 \\\\\n",
      "      3.0 & 0.477121 &    2 & 0.031 & -36.193366 \\\\\n",
      "      3.5 & 0.544068 &    2 & 0.031 & -36.193366 \\\\\n",
      "      4.0 & 0.602060 &    2 & 0.032 & -35.917600 \\\\\n",
      "      4.5 & 0.653213 &    2 & 0.032 & -35.917600 \\\\\n",
      "      5.0 & 0.698970 &    2 & 0.032 & -35.917600 \\\\\n",
      "      5.5 & 0.740363 &    2 & 0.035 & -35.139239 \\\\\n",
      "      6.0 & 0.778151 &    2 & 0.400 & -13.979400 \\\\\n",
      "      6.5 & 0.812913 &    2 & 0.710 &  -8.995433 \\\\\n",
      "      7.0 & 0.845098 &    2 & 0.159 & -21.992657 \\\\\n",
      "      7.5 & 0.875061 &    2 & 0.238 & -18.489061 \\\\\n",
      "      8.0 & 0.903090 &    2 & 0.278 & -17.139704 \\\\\n",
      "      8.5 & 0.929419 &    2 & 0.312 & -16.137508 \\\\\n",
      "      9.0 & 0.954243 &    2 & 0.372 & -14.609741 \\\\\n",
      "     10.0 & 1.000000 &    2 & 0.650 &  -9.762333 \\\\\n",
      "     20.0 & 1.301030 &    2 & 0.794 &  -8.024190 \\\\\n",
      "     30.0 & 1.477121 &    2 & 0.886 &  -7.071925 \\\\\n",
      "     40.0 & 1.602060 &    2 & 0.951 &  -6.456990 \\\\\n",
      "     50.0 & 1.698970 &    2 & 0.988 &  -6.125461 \\\\\n",
      "     60.0 & 1.778151 &    2 & 1.031 &  -5.755427 \\\\\n",
      "    100.0 & 2.000000 &    2 & 1.239 &  -4.159174 \\\\\n",
      "    500.0 & 2.698970 &    2 & 1.241 &  -4.145164 \\\\\n",
      "   1000.0 & 3.000000 &    2 & 1.222 &  -4.279176 \\\\\n",
      "   5000.0 & 3.698970 &    2 & 1.189 &  -4.516963 \\\\\n",
      "  10000.0 & 4.000000 &    2 & 1.140 &  -4.882503 \\\\\n",
      "  20000.0 & 4.301030 &    2 & 1.104 &  -5.161218 \\\\\n",
      "  30000.0 & 4.477121 &    2 & 1.063 &  -5.489935 \\\\\n",
      "  40000.0 & 4.602060 &    2 & 1.017 &  -5.874181 \\\\\n",
      "  50000.0 & 4.698970 &    2 & 0.740 &  -8.635966 \\\\\n",
      " 100000.0 & 5.000000 &    2 & 0.448 & -12.995040 \\\\\n",
      " 200000.0 & 5.301030 &    2 & 0.176 & -21.110347 \\\\\n",
      " 300000.0 & 5.477121 &    2 & 0.070 & -29.118639 \\\\\n",
      " 400000.0 & 5.602060 &    2 & 0.040 & -33.979400 \\\\\n",
      " 500000.0 & 5.698970 &    2 & 0.035 & -35.139239 \\\\\n",
      "1000000.0 & 6.000000 &    2 & 0.056 & -31.056839 \\\\\n",
      "2000000.0 & 6.301030 &    2 & 0.450 & -12.956350 \\\\\n",
      "3000000.0 & 6.477121 &    2 & 0.450 & -12.956350 \\\\\n",
      "5000000.0 & 6.698970 &    2 & 0.450 & -12.956350 \\\\\n",
      "\\bottomrule\n",
      "\\end{tabular}\n",
      "\n"
     ]
    },
    {
     "name": "stderr",
     "output_type": "stream",
     "text": [
      "/tmp/ipykernel_20990/420312367.py:1: FutureWarning: In future versions `DataFrame.to_latex` is expected to utilise the base implementation of `Styler.to_latex` for formatting and rendering. The arguments signature may therefore change. It is recommended instead to use `DataFrame.style.to_latex` which also contains additional functionality.\n",
      "  print(data2.to_latex(index=False))\n"
     ]
    }
   ],
   "source": [
    "print(data2.to_latex(index=False))"
   ]
  }
 ],
 "metadata": {
  "kernelspec": {
   "display_name": "Python 3",
   "language": "python",
   "name": "python3"
  },
  "language_info": {
   "codemirror_mode": {
    "name": "ipython",
    "version": 3
   },
   "file_extension": ".py",
   "mimetype": "text/x-python",
   "name": "python",
   "nbconvert_exporter": "python",
   "pygments_lexer": "ipython3",
   "version": "3.12.3"
  }
 },
 "nbformat": 4,
 "nbformat_minor": 2
}
