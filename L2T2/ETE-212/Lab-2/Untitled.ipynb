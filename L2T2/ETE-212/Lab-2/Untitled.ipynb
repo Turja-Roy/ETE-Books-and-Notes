{
 "cells": [
  {
   "cell_type": "code",
   "execution_count": null,
   "id": "7abae951-41e7-4fea-8f5d-33e8e427bd3e",
   "metadata": {},
   "outputs": [
    {
     "name": "stdout",
     "output_type": "stream",
     "text": [
      "\u001b[?2004l\n",
      "\n",
      "\n",
      "\n",
      "\u001b[?2004h\n",
      "\u001b[?2004l\n",
      "\n",
      "\n",
      "\n",
      "error: /usr/lib/octave/9.2.0/oct/x86_64-pc-linux-gnu/__init_fltk__.oct: failed to load\n",
      "Incompatible version or missing dependency?\n",
      "libfltk_gl.so.1.3: cannot open shared object file: No such file or directory\n",
      "error: called from\n",
      "    graphics_toolkit at line 94 column 5\n",
      "\u001b[?2004h\n",
      "\u001b[?2004l\n",
      "\n",
      "\n",
      "\n",
      "\u001b[?2004h\n",
      "\u001b[?2004l\n",
      "\u001b[?2004h\u001b[?2004l\n",
      "\u001b[?2004h\u001b[?2004l\n",
      "\u001b[?2004h\u001b[?2004l\n",
      "\u001b[?2004h\u001b[?2004l\n",
      "den =\n",
      "\n",
      "   1000     50\n",
      "\n",
      "\u001b[?2004h\u001b[?2004l\n",
      "\u001b[?2004h\u001b[?2004l\n",
      "error: 'tf' undefined near line 1, column 10\n",
      "\n",
      "The 'tf' function belongs to the control package from Octave Forge which\n",
      "seems not to be installed on your system.\n",
      "\u001b[?2004h\u001b[?2004l\n",
      "error: 'cruise' undefined near line 1, column 6\n",
      "\u001b[?2004h"
     ]
    }
   ],
   "source": [
    "m = 1000;\n",
    "b = 50;\n",
    "u = 100;\n",
    "num = [1];\n",
    "den = [m b]\n",
    "\n",
    "cruise = tf(num,den)\n",
    "step(cruise)"
   ]
  },
  {
   "cell_type": "code",
   "execution_count": null,
   "id": "595352f2-5815-429a-8aa8-be280ec7ce71",
   "metadata": {},
   "outputs": [],
   "source": [
    "m = 1000;\n",
    "b = 50;\n",
    "u = 500;\n",
    "A = [-b/m];\n",
    "B = [1/m];\n",
    "C = [1];\n",
    "D = 0;\n",
    "\n",
    "cruise = ss(A,B,C,D)\n",
    "step(cruise)\n",
    "\n",
    "step(u*cruise)                      % u is gain of the system"
   ]
  },
  {
   "cell_type": "code",
   "execution_count": null,
   "id": "917edcc6-0f01-4a50-81f9-67178d016d88",
   "metadata": {},
   "outputs": [],
   "source": [
    "% R -> Input\n",
    "% C -> Output\n",
    "% G -> Open-loop response\n",
    "% H -> Open-loop response of feedback response\n",
    "% T -> "
   ]
  },
  {
   "cell_type": "code",
   "execution_count": null,
   "id": "e92cdf14-0bcc-4de4-865e-530c5683dcbe",
   "metadata": {},
   "outputs": [],
   "source": [
    "$ \\frac{\\theta}{V} = \\frac{K}{(Js + b) (Ls + R) + K^2} $\n",
    "$ \\frac{\\theta}{V} = \\frac{K}{ JL s^2 + (JR + Lb)s + (bR + K^2)  } $"
   ]
  },
  {
   "cell_type": "code",
   "execution_count": null,
   "id": "325156b7-1f50-4d66-8aa3-2d79cb5a4487",
   "metadata": {},
   "outputs": [],
   "source": [
    "J = 0.01;   % J \\propto time\n",
    "b = 0.1;\n",
    "K = 0.01;\n",
    "R = 1;    % R \\propto 1/time\n",
    "L = 0.5;\n",
    "num = K;\n",
    "den = [(J*L) ((J*R)+(L*b)) ((b*R)+k^2)]\n",
    "\n",
    "motor = tf(num,den)\n",
    "step(motor)"
   ]
  },
  {
   "cell_type": "code",
   "execution_count": null,
   "id": "19f30888-ff0b-4360-96ef-3608f89984c9",
   "metadata": {},
   "outputs": [],
   "source": []
  }
 ],
 "metadata": {
  "kernelspec": {
   "display_name": "Octave",
   "language": "octave",
   "name": "octave"
  },
  "language_info": {
   "file_extension": ".m",
   "help_links": [
    {
     "text": "GNU Octave",
     "url": "https://www.gnu.org/software/octave/support.html"
    },
    {
     "text": "Octave Kernel",
     "url": "https://github.com/Calysto/octave_kernel"
    },
    {
     "text": "MetaKernel Magics",
     "url": "https://metakernel.readthedocs.io/en/latest/source/README.html"
    }
   ],
   "mimetype": "text/x-octave",
   "name": "octave",
   "version": "9.2.0"
  }
 },
 "nbformat": 4,
 "nbformat_minor": 5
}
